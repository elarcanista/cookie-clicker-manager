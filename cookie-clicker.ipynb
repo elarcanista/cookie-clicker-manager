{
 "cells": [
  {
   "cell_type": "code",
   "execution_count": null,
   "source": [
    "import requests\n",
    "from pyquery import PyQuery\n",
    "from bs4 import BeautifulSoup as B\n",
    "import pandas as pd\n",
    "import numpy as np\n",
    "\n",
    "response = requests.get(\n",
    "    'https://cookieclicker.fandom.com/wiki/Upgrades')\n",
    "pq = PyQuery(response.content)\n",
    "upgrade_name = []\n",
    "upgrade_table = []\n",
    "for table in pq('.wikitable').items():\n",
    "    upgrade_name.append(table('caption').text())\n",
    "    t = pd.DataFrame(columns=[\n",
    "        table('tbody tr:first-child th:nth-child(2)').text(),\n",
    "        table('tbody tr:first-child th:nth-child(3)').text(),\n",
    "        table('tbody tr:first-child th:nth-child(4)').text()])\n",
    "    for upgrade in table('tbody tr:not(:first-child)').items():\n",
    "        t.loc[t.shape[0]] = [upgrade('td:nth-child(2)').text(),\n",
    "                  upgrade('td:nth-child(3)').text(),\n",
    "                  upgrade('td:nth-child(4)').attr['data-sort-value']]\n",
    "    upgrade_table.append(t)\n",
    "print(pd.concat(upgrade_table, axis=1, keys=upgrade_name))\n",
    "\n"
   ],
   "outputs": [],
   "metadata": {}
  }
 ],
 "metadata": {
  "orig_nbformat": 4,
  "language_info": {
   "name": "python",
   "version": "3.9.2",
   "mimetype": "text/x-python",
   "codemirror_mode": {
    "name": "ipython",
    "version": 3
   },
   "pygments_lexer": "ipython3",
   "nbconvert_exporter": "python",
   "file_extension": ".py"
  },
  "kernelspec": {
   "name": "python3",
   "display_name": "Python 3.9.2 64-bit"
  },
  "interpreter": {
   "hash": "1a74cfba15cb2a7e1711077e0bf40c4aa90b3e0e84105adac214ba76b6a8694a"
  }
 },
 "nbformat": 4,
 "nbformat_minor": 2
}