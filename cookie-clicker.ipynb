{
 "cells": [
  {
   "cell_type": "code",
   "execution_count": 33,
   "source": [
    "import requests\n",
    "from pyquery import PyQuery as pq\n",
    "import pandas as pd\n",
    "import re\n",
    "\n",
    "\n",
    "def get_buildings():\n",
    "    response = requests.get(\n",
    "        'https://cookieclicker.fandom.com/wiki/Buildings')\n",
    "    html = pq(response.content)\n",
    "    buildings = pd.read_html(html('.wikitable').outer_html(), index_col=0)[0][\n",
    "        ['Base Cost', 'Base CpS']]\n",
    "    return buildings\n",
    "\n",
    "\n",
    "def get_upgrades(buildings):\n",
    "    response = requests.get(\n",
    "        'https://cookieclicker.fandom.com/wiki/Upgrades')\n",
    "    html = pq(response.content)\n",
    "    captions = html('caption')\n",
    "    upgrades = []\n",
    "    for name in buildings.index:\n",
    "        regex = re.compile(\n",
    "            '\\d+ (?={})'.format(name[:-1]), re.IGNORECASE)\n",
    "        table = captions(':contains(\"%s\")' % name).parent()\n",
    "        requirement = table('td:nth-child(3)')\n",
    "        requirement.map(lambda i, e: pq(e).text(\n",
    "            regex.search(pq(e).text()).group(0)))\n",
    "\n",
    "        price = table('td:nth-child(4) span:nth-child(2)')\n",
    "        price.map(lambda i, e: pq(e).text(pq(e).attr('title')))\n",
    "        price.children().remove()\n",
    "        upgrades.append(pd.read_html(\n",
    "            table.outer_html())[0][['Name', 'Unlock condition', 'Base price']])\n",
    "    upgrades = pd.concat(upgrades, keys=buildings.index, axis=1)\n",
    "    return upgrades\n",
    "\n",
    "buildings = get_buildings()\n",
    "upgrades = get_upgrades(buildings)\n",
    "# print(upgrades)\n",
    "buildings.to_excel('buildings.xlsx')\n",
    "upgrades.to_excel('upgrades.xlsx')\n"
   ],
   "outputs": [],
   "metadata": {}
  }
 ],
 "metadata": {
  "orig_nbformat": 4,
  "language_info": {
   "name": "python",
   "version": "3.9.2",
   "mimetype": "text/x-python",
   "codemirror_mode": {
    "name": "ipython",
    "version": 3
   },
   "pygments_lexer": "ipython3",
   "nbconvert_exporter": "python",
   "file_extension": ".py"
  },
  "kernelspec": {
   "name": "python3",
   "display_name": "Python 3.9.2 64-bit"
  },
  "interpreter": {
   "hash": "1a74cfba15cb2a7e1711077e0bf40c4aa90b3e0e84105adac214ba76b6a8694a"
  }
 },
 "nbformat": 4,
 "nbformat_minor": 2
}