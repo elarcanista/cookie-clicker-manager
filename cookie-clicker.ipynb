{
 "cells": [
  {
   "cell_type": "code",
   "execution_count": 1,
   "source": [
    "import requests\n",
    "from pyquery import PyQuery\n",
    "import pandas as pd\n",
    "\n",
    "response = requests.get(\n",
    "    'https://cookieclicker.fandom.com/wiki/Upgrades')\n",
    "pq = PyQuery(response.content)\n",
    "upgrade_name = []\n",
    "upgrade_table = []\n",
    "for caption in pq('caption').items():\n",
    "    upgrade_name.append(caption.text())\n",
    "    upgrade_table.append(pd.read_html(caption.parent().outerHtml())[0])\n",
    "upgrades = pd.concat(upgrade_table, axis=1, keys=upgrade_name)\n",
    "upgrades.to_excel('upgrades.xlsx')\n"
   ],
   "outputs": [],
   "metadata": {}
  }
 ],
 "metadata": {
  "orig_nbformat": 4,
  "language_info": {
   "name": "python",
   "version": "3.9.2",
   "mimetype": "text/x-python",
   "codemirror_mode": {
    "name": "ipython",
    "version": 3
   },
   "pygments_lexer": "ipython3",
   "nbconvert_exporter": "python",
   "file_extension": ".py"
  },
  "kernelspec": {
   "name": "python3",
   "display_name": "Python 3.9.2 64-bit"
  },
  "interpreter": {
   "hash": "1a74cfba15cb2a7e1711077e0bf40c4aa90b3e0e84105adac214ba76b6a8694a"
  }
 },
 "nbformat": 4,
 "nbformat_minor": 2
}